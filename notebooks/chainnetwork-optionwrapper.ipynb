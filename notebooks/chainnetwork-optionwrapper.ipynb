{
 "cells": [
  {
   "cell_type": "markdown",
   "metadata": {},
   "source": [
    "Copyright (c) Microsoft Corporation. All rights reserved. Licensed under the MIT License."
   ]
  },
  {
   "cell_type": "code",
   "execution_count": 2,
   "metadata": {
    "scrolled": false
   },
   "outputs": [
    {
     "name": "stderr",
     "output_type": "stream",
     "text": [
      "/home/wiblum/CyberBattleSim/venv/lib/python3.9/site-packages/gym/utils/passive_env_checker.py:174: UserWarning:\n",
      "\n",
      "\u001b[33mWARN: Future gym versions will require that `Env.reset` can be passed a `seed` instead of using `Env.seed` for resetting the environment random number generator.\u001b[0m\n",
      "\n",
      "/home/wiblum/CyberBattleSim/venv/lib/python3.9/site-packages/gym/utils/passive_env_checker.py:187: UserWarning:\n",
      "\n",
      "\u001b[33mWARN: Future gym versions will require that `Env.reset` can be passed `options` to allow the environment initialisation to be passed additional information.\u001b[0m\n",
      "\n",
      "/home/wiblum/CyberBattleSim/venv/lib/python3.9/site-packages/gym/utils/passive_env_checker.py:195: UserWarning:\n",
      "\n",
      "\u001b[33mWARN: The result returned by `env.reset()` was not a tuple of the form `(obs, info)`, where `obs` is a observation and `info` is a dictionary containing additional information. Actual type: `<class 'dict'>`\u001b[0m\n",
      "\n"
     ]
    },
    {
     "ename": "ValueError",
     "evalue": "not enough values to unpack (expected 4, got 2)",
     "output_type": "error",
     "traceback": [
      "\u001b[0;31m---------------------------------------------------------------------------\u001b[0m",
      "\u001b[0;31mValueError\u001b[0m                                Traceback (most recent call last)",
      "Cell \u001b[0;32mIn [2], line 21\u001b[0m\n\u001b[1;32m     18\u001b[0m n \u001b[38;5;241m=\u001b[39m \u001b[38;5;241m10\u001b[39m\n\u001b[1;32m     20\u001b[0m \u001b[38;5;28;01mfor\u001b[39;00m t \u001b[38;5;129;01min\u001b[39;00m \u001b[38;5;28mrange\u001b[39m(\u001b[38;5;241m100\u001b[39m):\n\u001b[0;32m---> 21\u001b[0m     s, r, done, truncated, info \u001b[38;5;241m=\u001b[39m \u001b[43menv\u001b[49m\u001b[38;5;241;43m.\u001b[39;49m\u001b[43mstep\u001b[49m\u001b[43m(\u001b[49m\u001b[43m)\u001b[49m\n\u001b[1;32m     22\u001b[0m     \u001b[38;5;28;01mif\u001b[39;00m r \u001b[38;5;241m>\u001b[39m \u001b[38;5;241m0\u001b[39m:\n\u001b[1;32m     23\u001b[0m         \u001b[38;5;28mprint\u001b[39m(r, done, info[\u001b[38;5;124m'\u001b[39m\u001b[38;5;124maction\u001b[39m\u001b[38;5;124m'\u001b[39m])\n",
      "File \u001b[0;32m~/CyberBattleSim/cyberbattle/_env/option_wrapper.py:69\u001b[0m, in \u001b[0;36mContextWrapper.step\u001b[0;34m(self, dummy)\u001b[0m\n\u001b[1;32m     66\u001b[0m         node_id, port_id \u001b[39m=\u001b[39m obs[\u001b[39m'\u001b[39m\u001b[39mcredential_cache_matrix\u001b[39m\u001b[39m'\u001b[39m][cred_id]\u001b[39m.\u001b[39mastype(\u001b[39m'\u001b[39m\u001b[39mint32\u001b[39m\u001b[39m'\u001b[39m)\n\u001b[1;32m     67\u001b[0m         a \u001b[39m=\u001b[39m {\u001b[39m\"\u001b[39m\u001b[39mremote_vulnerability\u001b[39m\u001b[39m\"\u001b[39m: onp\u001b[39m.\u001b[39marray([local_node_id, node_id, port_id, cred_id])}\n\u001b[0;32m---> 69\u001b[0m \u001b[39mself\u001b[39m\u001b[39m.\u001b[39m_observation, reward, done, truncated, info \u001b[39m=\u001b[39m \u001b[39mself\u001b[39;49m\u001b[39m.\u001b[39;49menv\u001b[39m.\u001b[39;49mstep(a)\n\u001b[1;32m     70\u001b[0m \u001b[39mreturn\u001b[39;00m \u001b[39mself\u001b[39m\u001b[39m.\u001b[39m_observation, reward, done, truncated, {\u001b[39m*\u001b[39m\u001b[39m*\u001b[39minfo, \u001b[39m'\u001b[39m\u001b[39maction\u001b[39m\u001b[39m'\u001b[39m: a}\n",
      "File \u001b[0;32m~/CyberBattleSim/venv/lib/python3.9/site-packages/gym/wrappers/order_enforcing.py:37\u001b[0m, in \u001b[0;36mOrderEnforcing.step\u001b[0;34m(self, action)\u001b[0m\n\u001b[1;32m     35\u001b[0m \u001b[39mif\u001b[39;00m \u001b[39mnot\u001b[39;00m \u001b[39mself\u001b[39m\u001b[39m.\u001b[39m_has_reset:\n\u001b[1;32m     36\u001b[0m     \u001b[39mraise\u001b[39;00m ResetNeeded(\u001b[39m\"\u001b[39m\u001b[39mCannot call env.step() before calling env.reset()\u001b[39m\u001b[39m\"\u001b[39m)\n\u001b[0;32m---> 37\u001b[0m \u001b[39mreturn\u001b[39;00m \u001b[39mself\u001b[39;49m\u001b[39m.\u001b[39;49menv\u001b[39m.\u001b[39;49mstep(action)\n",
      "File \u001b[0;32m~/CyberBattleSim/venv/lib/python3.9/site-packages/gym/wrappers/env_checker.py:37\u001b[0m, in \u001b[0;36mPassiveEnvChecker.step\u001b[0;34m(self, action)\u001b[0m\n\u001b[1;32m     35\u001b[0m \u001b[39mif\u001b[39;00m \u001b[39mself\u001b[39m\u001b[39m.\u001b[39mchecked_step \u001b[39mis\u001b[39;00m \u001b[39mFalse\u001b[39;00m:\n\u001b[1;32m     36\u001b[0m     \u001b[39mself\u001b[39m\u001b[39m.\u001b[39mchecked_step \u001b[39m=\u001b[39m \u001b[39mTrue\u001b[39;00m\n\u001b[0;32m---> 37\u001b[0m     \u001b[39mreturn\u001b[39;00m env_step_passive_checker(\u001b[39mself\u001b[39;49m\u001b[39m.\u001b[39;49menv, action)\n\u001b[1;32m     38\u001b[0m \u001b[39melse\u001b[39;00m:\n\u001b[1;32m     39\u001b[0m     \u001b[39mreturn\u001b[39;00m \u001b[39mself\u001b[39m\u001b[39m.\u001b[39menv\u001b[39m.\u001b[39mstep(action)\n",
      "File \u001b[0;32m~/CyberBattleSim/venv/lib/python3.9/site-packages/gym/utils/passive_env_checker.py:214\u001b[0m, in \u001b[0;36menv_step_passive_checker\u001b[0;34m(env, action)\u001b[0m\n\u001b[1;32m    212\u001b[0m \u001b[39m\"\"\"A passive check for the environment step, investigating the returning data then returning the data unchanged.\"\"\"\u001b[39;00m\n\u001b[1;32m    213\u001b[0m \u001b[39m# We don't check the action as for some environments then out-of-bounds values can be given\u001b[39;00m\n\u001b[0;32m--> 214\u001b[0m result \u001b[39m=\u001b[39m env\u001b[39m.\u001b[39;49mstep(action)\n\u001b[1;32m    215\u001b[0m \u001b[39massert\u001b[39;00m \u001b[39misinstance\u001b[39m(\n\u001b[1;32m    216\u001b[0m     result, \u001b[39mtuple\u001b[39m\n\u001b[1;32m    217\u001b[0m ), \u001b[39mf\u001b[39m\u001b[39m\"\u001b[39m\u001b[39mExpects step result to be a tuple, actual type: \u001b[39m\u001b[39m{\u001b[39;00m\u001b[39mtype\u001b[39m(result)\u001b[39m}\u001b[39;00m\u001b[39m\"\u001b[39m\n\u001b[1;32m    218\u001b[0m \u001b[39mif\u001b[39;00m \u001b[39mlen\u001b[39m(result) \u001b[39m==\u001b[39m \u001b[39m4\u001b[39m:\n",
      "File \u001b[0;32m~/CyberBattleSim/cyberbattle/_env/cyberbattle_env.py:1101\u001b[0m, in \u001b[0;36mCyberBattleEnv.step\u001b[0;34m(self, action)\u001b[0m\n\u001b[1;32m   1099\u001b[0m duration \u001b[39m=\u001b[39m time\u001b[39m.\u001b[39mtime() \u001b[39m-\u001b[39m \u001b[39mself\u001b[39m\u001b[39m.\u001b[39m__start_time\n\u001b[1;32m   1100\u001b[0m \u001b[39mtry\u001b[39;00m:\n\u001b[0;32m-> 1101\u001b[0m     result \u001b[39m=\u001b[39m \u001b[39mself\u001b[39;49m\u001b[39m.\u001b[39;49m__execute_action(action)\n\u001b[1;32m   1102\u001b[0m     observation, reward \u001b[39m=\u001b[39m \u001b[39mself\u001b[39m\u001b[39m.\u001b[39m__observation_reward_from_action_result(result)\n\u001b[1;32m   1104\u001b[0m     \u001b[39m# Execute the defender step if provided\u001b[39;00m\n",
      "File \u001b[0;32m~/CyberBattleSim/cyberbattle/_env/cyberbattle_env.py:715\u001b[0m, in \u001b[0;36mCyberBattleEnv.__execute_action\u001b[0;34m(self, action)\u001b[0m\n\u001b[1;32m    712\u001b[0m     \u001b[39mreturn\u001b[39;00m result\n\u001b[1;32m    714\u001b[0m \u001b[39melif\u001b[39;00m \u001b[39m\"\u001b[39m\u001b[39mconnect\u001b[39m\u001b[39m\"\u001b[39m \u001b[39min\u001b[39;00m action:\n\u001b[0;32m--> 715\u001b[0m     source_node, target_node, port_index, credential_cache_index \u001b[39m=\u001b[39m action[\u001b[39m\"\u001b[39m\u001b[39mconnect\u001b[39m\u001b[39m\"\u001b[39m]\n\u001b[1;32m    716\u001b[0m     \u001b[39mif\u001b[39;00m credential_cache_index \u001b[39m<\u001b[39m \u001b[39m0\u001b[39m \u001b[39mor\u001b[39;00m credential_cache_index \u001b[39m>\u001b[39m\u001b[39m=\u001b[39m \u001b[39mlen\u001b[39m(\u001b[39mself\u001b[39m\u001b[39m.\u001b[39m__credential_cache):\n\u001b[1;32m    717\u001b[0m         \u001b[39mreturn\u001b[39;00m actions\u001b[39m.\u001b[39mActionResult(reward\u001b[39m=\u001b[39m\u001b[39m-\u001b[39m\u001b[39m1\u001b[39m, outcome\u001b[39m=\u001b[39m\u001b[39mNone\u001b[39;00m)\n",
      "\u001b[0;31mValueError\u001b[0m: not enough values to unpack (expected 4, got 2)"
     ]
    }
   ],
   "source": [
    "import plotly.io.orca\n",
    "import gym\n",
    "import numpy\n",
    "\n",
    "plotly.io.orca.config.executable = '~/.npm-packages/bin/orca'\n",
    "\n",
    "from cyberbattle._env.cyberbattle_env import AttackerGoal\n",
    "from cyberbattle._env.option_wrapper import ContextWrapper, random_options\n",
    "\n",
    "rnd = numpy.random.RandomState(13)\n",
    "\n",
    "env = gym.make('CyberBattleChain-v0', size=10, attacker_goal=AttackerGoal(reward=4000))\n",
    "env = ContextWrapper(env, options=random_options)\n",
    "\n",
    "s = env.reset()\n",
    "#env.render()\n",
    "\n",
    "n = 10\n",
    "\n",
    "for t in range(100):\n",
    "    s, r, done, truncated, info = env.step()\n",
    "    if r > 0:\n",
    "        print(r, done, info['action'])\n",
    "#         env.render()\n",
    "    if done:\n",
    "        if n == 0:\n",
    "            break\n",
    "        n -= (r > 0)\n",
    "        env.reset()\n",
    "        \n"
   ]
  },
  {
   "cell_type": "code",
   "execution_count": null,
   "metadata": {},
   "outputs": [],
   "source": []
  }
 ],
 "metadata": {
  "kernelspec": {
   "display_name": "Python 3.9.5 ('venv': venv)",
   "language": "python",
   "name": "python3"
  },
  "language_info": {
   "codemirror_mode": {
    "name": "ipython",
    "version": 3
   },
   "file_extension": ".py",
   "mimetype": "text/x-python",
   "name": "python",
   "nbconvert_exporter": "python",
   "pygments_lexer": "ipython3",
   "version": "3.9.5"
  },
  "vscode": {
   "interpreter": {
    "hash": "f089f7d33c3e89df79826df0f457708f3a77d94362a48b8981e42f0d1b2b4b6d"
   }
  }
 },
 "nbformat": 4,
 "nbformat_minor": 4
}
